{
  "nbformat": 4,
  "nbformat_minor": 0,
  "metadata": {
    "colab": {
      "provenance": [],
      "authorship_tag": "ABX9TyODf09IairygF6OAxK6ODmx",
      "include_colab_link": true
    },
    "kernelspec": {
      "name": "python3",
      "display_name": "Python 3"
    },
    "language_info": {
      "name": "python"
    }
  },
  "cells": [
    {
      "cell_type": "markdown",
      "metadata": {
        "id": "view-in-github",
        "colab_type": "text"
      },
      "source": [
        "<a href=\"https://colab.research.google.com/github/linagraf/BTE320/blob/main/InClassAssignments.ipynb\" target=\"_parent\"><img src=\"https://colab.research.google.com/assets/colab-badge.svg\" alt=\"Open In Colab\"/></a>"
      ]
    },
    {
      "cell_type": "markdown",
      "source": [
        "Assignment 1: Write program that takes 3 inputs (pi, radius, heaight); calculates the radius of a closed cylinder, area=2piR^2+2piRh"
      ],
      "metadata": {
        "id": "T4Dsu3og26By"
      }
    },
    {
      "cell_type": "code",
      "execution_count": null,
      "metadata": {
        "colab": {
          "base_uri": "https://localhost:8080/"
        },
        "id": "2BN4u9NT2z-y",
        "outputId": "f5624486-810d-42a5-8baa-21f6a0ad2eed"
      },
      "outputs": [
        {
          "output_type": "stream",
          "name": "stdout",
          "text": [
            "enter radius:5\n",
            "enter height:7\n",
            "area of cylinder:376.8 sq.ft\n"
          ]
        }
      ],
      "source": [
        "radius=float(input(\"enter radius:\"))\n",
        "height=float(input(\"enter height:\"))\n",
        "pi=3.14\n",
        "\n",
        "area=2*pi*radius**2+2*pi*radius*height\n",
        "print(f'area of cylinder:{area} sq.ft')"
      ]
    },
    {
      "cell_type": "markdown",
      "source": [
        "Assignment 2: design a calculator with 3 inputs, 2 numbers, symbol; n1=, n2=, op="
      ],
      "metadata": {
        "id": "audiH_nF6Q5P"
      }
    },
    {
      "cell_type": "code",
      "source": [
        "n1= float(input(\"Please provide your age:\"))\n",
        "n2= float(input(\"Please provide your weight:\"))\n",
        "op = input(\"Enter operator:\")\n",
        "\n",
        "if op == \"+\":\n",
        "  result= n1+n2\n",
        "elif op == \"-\":\n",
        "  result= n1-n2\n",
        "elif op == \"*\":\n",
        "  result= n1*n2\n",
        "elif op == \"/\":\n",
        "  result=n1/n2\n",
        "elif op == \"//\":\n",
        "  result= n1//n2\n",
        "elif op == \"**\":\n",
        "  result= n1**n2\n",
        "elif op == \"%\":\n",
        "  result = n1 % n2\n",
        "else:\n",
        "  result=\"invalid operator!\"\n",
        "\n",
        "print(f'{n1} {op} {n2}= {result}')\n"
      ],
      "metadata": {
        "colab": {
          "base_uri": "https://localhost:8080/"
        },
        "id": "hqeVRrIQ6kIR",
        "outputId": "ecf485d4-3f13-4f2b-9166-7b4d5498508e"
      },
      "execution_count": null,
      "outputs": [
        {
          "output_type": "stream",
          "name": "stdout",
          "text": [
            "Please provide your age:6\n",
            "Please provide your weight:8\n",
            "Enter operator:+\n",
            "6.0 + 8.0= 14.0\n"
          ]
        }
      ]
    },
    {
      "cell_type": "markdown",
      "source": [
        "Assignment 3: parking garage charges $5 plus $2.5 for each hour parked. The min fee is $10 and the max fee is $20. Write a prorgram that prints a vertical list with hours parked and the corresponding fee, from 1-8 (left side is number of hours and right side is the fee)."
      ],
      "metadata": {
        "id": "0L3syTxgmQ_n"
      }
    },
    {
      "cell_type": "code",
      "source": [
        "for numberHours in range (1,9,1):\n",
        "  fee = 5+2.5*numberHours\n",
        "  if fee < 10:\n",
        "    fee = 10\n",
        "  elif fee > 20:\n",
        "    fee = 20\n",
        "\n",
        "  print(numberHours, fee)"
      ],
      "metadata": {
        "colab": {
          "base_uri": "https://localhost:8080/"
        },
        "id": "0B110z8ZnAYb",
        "outputId": "e4aa23cd-2bda-4313-b02f-444a27f6d906"
      },
      "execution_count": null,
      "outputs": [
        {
          "output_type": "stream",
          "name": "stdout",
          "text": [
            "1 10\n",
            "2 10.0\n",
            "3 12.5\n",
            "4 15.0\n",
            "5 17.5\n",
            "6 20.0\n",
            "7 20\n",
            "8 20\n"
          ]
        }
      ]
    },
    {
      "cell_type": "markdown",
      "source": [
        "Assignment 4: a ticket for movie theatre is $10, W/o advertising, 20 people are forecasted to attend. Additional attend based on ad spending, estimated to be: Additional attendees = 2 x round (advertisingDollars^.5). Fixed cost=$200. Write a program to generate table for ad amounts and profits."
      ],
      "metadata": {
        "id": "U9BfdejEq6m-"
      }
    },
    {
      "cell_type": "code",
      "source": [
        "import math\n",
        "\n",
        "print('Ad$\\t', 'Profit')\n",
        "for adMoney in range (0,201,25):\n",
        "  revenue = (20 + 2* round(math.sqrt(adMoney))) * 10 #round (adMoney**.5); 20 is the ppl forecasted to attend\n",
        "  costs= 200 + adMoney #200= fixed costs + ad cost\n",
        "  profit= revenue - costs\n",
        "  print(adMoney, '\\t',profit)\n",
        "\n",
        "\n"
      ],
      "metadata": {
        "colab": {
          "base_uri": "https://localhost:8080/"
        },
        "id": "b_VmJhIxrXfH",
        "outputId": "cf936a74-b2cd-477f-9d80-0c308b5c021c"
      },
      "execution_count": null,
      "outputs": [
        {
          "output_type": "stream",
          "name": "stdout",
          "text": [
            "Ad$\t Profit\n",
            "0 \t 0\n",
            "25 \t 75\n",
            "50 \t 90\n",
            "75 \t 105\n",
            "100 \t 100\n",
            "125 \t 95\n",
            "150 \t 90\n",
            "175 \t 85\n",
            "200 \t 80\n"
          ]
        }
      ]
    },
    {
      "cell_type": "markdown",
      "source": [
        "Rock - Paper - Scissors: 2 players playing the game. Each players choice is given from the keyboard. Game repeats until the user decides to stop."
      ],
      "metadata": {
        "id": "7qoKnmcjWPw0"
      }
    },
    {
      "cell_type": "code",
      "source": [
        "import random\n",
        "\n",
        "play = input(\"Do you want to play a game (yes/no)\").capitalize()\n",
        "\n",
        "while play == \"Yes\":\n",
        "  p1 = input(\"Player 1, choose either Rock, Paper, or Scissors:\").capitalize()\n",
        "  p2 = random.choice([\"rock\", \"paper\", \"scissors\"]).capitalize()\n",
        "\n",
        "  print(f\"Player chose {p1}; Computer chose {p2}\")\n",
        "\n",
        "  if p1 == p2:\n",
        "    print(\"Draw\")\n",
        "\n",
        "  elif ((p1 == \"Rock\" and p2 == \"Scissors\") or (p1 == \"Scissors\" and p2 == \"Paper\") or (p1 == \"Paper\" and p2 == \"Rock\")):\n",
        "    print(\"Player 1 wins\")\n",
        "\n",
        "  else:\n",
        "    print(\"Player 2 wins\")\n",
        "\n",
        "  play = input(\"Do you want to play another game (yes/no)\").capitalize()\n",
        "\n",
        "print (\"Good day...\")\n",
        "\n"
      ],
      "metadata": {
        "colab": {
          "base_uri": "https://localhost:8080/"
        },
        "id": "yFEPj88YWE8X",
        "outputId": "b9283535-3cb7-43d8-8e51-e6fec192d2b2"
      },
      "execution_count": null,
      "outputs": [
        {
          "output_type": "stream",
          "name": "stdout",
          "text": [
            "Do you want to play a game (yes/no)jbbbkjjkn\n",
            "Good day...\n"
          ]
        }
      ]
    },
    {
      "cell_type": "markdown",
      "source": [
        "Given an empty list, design program that populates list by asking user for numerical inputs. The process stops when user gives 0. List should be displayed in descending order."
      ],
      "metadata": {
        "id": "q0vewtppdISt"
      }
    },
    {
      "cell_type": "code",
      "source": [
        "L = []\n",
        "\n",
        "number = float(input(\"Please enter a number:\"))\n",
        "\n",
        "while number != 0.0:\n",
        "  L.append([number])\n",
        "  number = float(input(\"Please enter a number:\"))\n",
        "\n",
        "L.sort(reverse = True)\n",
        "L"
      ],
      "metadata": {
        "colab": {
          "base_uri": "https://localhost:8080/"
        },
        "id": "YXNKKNJ0dX_Z",
        "outputId": "1efcf36b-c2ed-4a78-926f-acaa1dfb0541"
      },
      "execution_count": null,
      "outputs": [
        {
          "name": "stdout",
          "output_type": "stream",
          "text": [
            "Please enter a number:9\n",
            "Please enter a number:0\n"
          ]
        },
        {
          "output_type": "execute_result",
          "data": {
            "text/plain": [
              "[[9.0]]"
            ]
          },
          "metadata": {},
          "execution_count": 10
        }
      ]
    },
    {
      "cell_type": "markdown",
      "source": [],
      "metadata": {
        "id": "I5oToOOD_3rV"
      }
    },
    {
      "cell_type": "code",
      "source": [
        "months = {}\n",
        "\n",
        "names = [\"Jan\", \"Feb\", \"Mar\", \"Apr\", \"May\", \"Jun\", \"Jul\", \"Aug\", \"Sep\", \"Oct\", \"Nov\", \"Dec\"]\n",
        "numbers = [1,2,3,4,5,6,7,8,9,10,11,12]\n",
        "\n",
        "for idx in range(len(numbers)):\n",
        "  months[numbers[idx]] = names[idx]\n",
        "\n",
        "months\n",
        "\n"
      ],
      "metadata": {
        "colab": {
          "base_uri": "https://localhost:8080/"
        },
        "id": "njybxWCB_5QH",
        "outputId": "b93f1528-ff7a-4c2a-b160-1566120a5c25"
      },
      "execution_count": null,
      "outputs": [
        {
          "output_type": "execute_result",
          "data": {
            "text/plain": [
              "{1: 'Jan',\n",
              " 2: 'Feb',\n",
              " 3: 'Mar',\n",
              " 4: 'Apr',\n",
              " 5: 'May',\n",
              " 6: 'Jun',\n",
              " 7: 'Jul',\n",
              " 8: 'Aug',\n",
              " 9: 'Sep',\n",
              " 10: 'Oct',\n",
              " 11: 'Nov',\n",
              " 12: 'Dec'}"
            ]
          },
          "metadata": {},
          "execution_count": 12
        }
      ]
    },
    {
      "cell_type": "code",
      "source": [
        "months = {}\n",
        "\n",
        "names = [\"Jan\", \"Feb\", \"Mar\", \"Apr\", \"May\", \"Jun\", \"Jul\", \"Aug\", \"Sep\", \"Oct\", \"Nov\", \"Dec\"]\n",
        "numbers = [1,2,3,4,5,6,7,8,9,10,11,12]\n",
        "\n",
        "cntr = 0\n",
        "\n",
        "for num in numbers:\n",
        "  months[num] = names[cntr] #d[key]= value\n",
        "  cntr += 1\n",
        "\n",
        "months"
      ],
      "metadata": {
        "colab": {
          "base_uri": "https://localhost:8080/"
        },
        "id": "BBEtV2xVFZqX",
        "outputId": "2632285a-5914-43bc-a60a-429f62343003"
      },
      "execution_count": null,
      "outputs": [
        {
          "output_type": "execute_result",
          "data": {
            "text/plain": [
              "{1: 'Jan',\n",
              " 2: 'Feb',\n",
              " 3: 'Mar',\n",
              " 4: 'Apr',\n",
              " 5: 'May',\n",
              " 6: 'Jun',\n",
              " 7: 'Jul',\n",
              " 8: 'Aug',\n",
              " 9: 'Sep',\n",
              " 10: 'Oct',\n",
              " 11: 'Nov',\n",
              " 12: 'Dec'}"
            ]
          },
          "metadata": {},
          "execution_count": 13
        }
      ]
    },
    {
      "cell_type": "markdown",
      "source": [
        "Create a dictionary by using a while loop to read strings from the user until 5 unique strings have been entered"
      ],
      "metadata": {
        "id": "tnH-q663Gm7j"
      }
    },
    {
      "cell_type": "code",
      "source": [
        "counts = {}\n",
        "\n",
        "\n",
        "while len(counts) < 5:\n",
        "  key = input(\"Give a string:\")\n",
        "\n",
        "  if key not in counts:\n",
        "    counts[key] = 1\n",
        "  else:\n",
        "    counts[key] += 1\n",
        "\n",
        "counts\n",
        "\n"
      ],
      "metadata": {
        "colab": {
          "base_uri": "https://localhost:8080/"
        },
        "id": "XcH7Hf3XHT5p",
        "outputId": "42ca694c-1ffd-4f78-e39b-6b587d28178b"
      },
      "execution_count": null,
      "outputs": [
        {
          "name": "stdout",
          "output_type": "stream",
          "text": [
            "Give a string:a\n",
            "Give a string:a\n",
            "Give a string:b\n",
            "Give a string:c\n",
            "Give a string:d\n",
            "Give a string:d\n",
            "Give a string:d\n",
            "Give a string:e\n"
          ]
        },
        {
          "output_type": "execute_result",
          "data": {
            "text/plain": [
              "{'a': 2, 'b': 1, 'c': 1, 'd': 3, 'e': 1}"
            ]
          },
          "metadata": {},
          "execution_count": 15
        }
      ]
    },
    {
      "cell_type": "markdown",
      "source": [
        "Parking Garage pt2: design a function for hours parked and parking fee"
      ],
      "metadata": {
        "id": "0s-nFDWJ08v8"
      }
    },
    {
      "cell_type": "code",
      "source": [
        "def calcFee(hours):\n",
        "  fee = 5+2.5*numHours\n",
        "  if fee < 10.0:\n",
        "    fee = 10.0\n",
        "  elif fee >= 20.0:\n",
        "    fee=20.0\n",
        "  print(f'Fee:{fee}$')\n",
        "\n",
        "print('Program starts...')\n",
        "\n",
        "numHours= int(input('Please enter number of hours parked:'))\n",
        "calcFee(numHours)"
      ],
      "metadata": {
        "colab": {
          "base_uri": "https://localhost:8080/"
        },
        "id": "5eJOHtIR1L-o",
        "outputId": "7ffcaa70-97c7-4c1f-950b-1c9f0f111395"
      },
      "execution_count": null,
      "outputs": [
        {
          "output_type": "stream",
          "name": "stdout",
          "text": [
            "Program starts...\n",
            "Please enter number of hours parked:12\n",
            "Fee:,20.0$\n"
          ]
        }
      ]
    },
    {
      "cell_type": "code",
      "source": [
        "def main():\n",
        "  numHours= int(input('Please enter number of hours parked:'))\n",
        "  calcFee(numHours)\n",
        "\n",
        "main()"
      ],
      "metadata": {
        "id": "uU2AYW1_5ojy"
      },
      "execution_count": null,
      "outputs": []
    },
    {
      "cell_type": "markdown",
      "source": [
        "Define a recursive fxn that takes strings and output is the string reveresed"
      ],
      "metadata": {
        "id": "sBtMdFpRHhr1"
      }
    },
    {
      "cell_type": "code",
      "source": [
        "def reverse(s):\n",
        "  if len(s) <= 1:\n",
        "    return s\n",
        "  else:\n",
        "    return s[-1] + reverse(s[:-1])\n",
        "reverse('Hello')"
      ],
      "metadata": {
        "id": "mQOS2L6sHeBt",
        "colab": {
          "base_uri": "https://localhost:8080/",
          "height": 35
        },
        "outputId": "732c4b42-fcaa-490a-db7f-73f1b89cf9b0"
      },
      "execution_count": null,
      "outputs": [
        {
          "output_type": "execute_result",
          "data": {
            "text/plain": [
              "'olleH'"
            ],
            "application/vnd.google.colaboratory.intrinsic+json": {
              "type": "string"
            }
          },
          "metadata": {},
          "execution_count": 3
        }
      ]
    },
    {
      "cell_type": "markdown",
      "source": [
        "Use try-except"
      ],
      "metadata": {
        "id": "k-uVm3rlgmsX"
      }
    },
    {
      "cell_type": "code",
      "source": [
        "def calcFee(hours):\n",
        "  fee = 5+2.5*numHours\n",
        "  if fee < 10.0:\n",
        "    fee = 10.0\n",
        "  elif fee >= 20.0:\n",
        "    fee=20.0\n",
        "  print(f'Fee:{fee}$')\n",
        "\n",
        "print('Program starts...')\n",
        "\n",
        "def main():\n",
        "  try:\n",
        "    numHours= int(input('Please enter number of hours parked:'))\n",
        "    calcFee(numHours)\n",
        "  except ValueError:\n",
        "    print(\"Invalid literal for int()\")\n",
        "\n",
        "if __name__ == \"__main__\":\n",
        "  main()"
      ],
      "metadata": {
        "colab": {
          "base_uri": "https://localhost:8080/"
        },
        "id": "XWYd24Rqgl8l",
        "outputId": "e53a4e03-a177-432c-e030-07e2d1ac0ec3"
      },
      "execution_count": null,
      "outputs": [
        {
          "output_type": "stream",
          "name": "stdout",
          "text": [
            "Program starts...\n",
            "Please enter number of hours parked:6.5\n",
            "Invalid literal for int()\n"
          ]
        }
      ]
    },
    {
      "cell_type": "code",
      "source": [
        "def getValues(n):\n",
        "  L = []\n",
        "  for i in range(n):\n",
        "    weight = float(input('Enter weight (lbs):'))\n",
        "    L.append(weight)\n",
        "  return L\n",
        "\n",
        "def calcAverage(alist):\n",
        "  try:\n",
        "    print(sum(alist[2:]) / len(alist[2:]))\n",
        "  except ZeroDivisionError:\n",
        "    print(\"List alist is empty\")\n",
        "  except:\n",
        "    print('Unknown error')\n",
        "\n",
        "if __name__ == \"__main__\":\n",
        "  try:\n",
        "    n = int(input('Enter size of list:'))\n",
        "    alist = getValues(n)\n",
        "    calcAverage(alist)\n",
        "  except ValueError:\n",
        "    print(\"Invalid literal for int():\")"
      ],
      "metadata": {
        "colab": {
          "base_uri": "https://localhost:8080/"
        },
        "id": "GSCjg43fjbhX",
        "outputId": "df07a6d5-7c55-4614-d3ad-d116734a13e2"
      },
      "execution_count": null,
      "outputs": [
        {
          "output_type": "stream",
          "name": "stdout",
          "text": [
            "Enter size of list:5.6\n",
            "Invalid literal for int():\n"
          ]
        }
      ]
    },
    {
      "cell_type": "markdown",
      "source": [
        "use the class keyword to define the Greeting class. Define an __init__() method with 3 parameters: self, first, last. Add a display() method to display the message like Hi Donald"
      ],
      "metadata": {
        "id": "eqspRxm7mxxZ"
      }
    },
    {
      "cell_type": "code",
      "source": [
        "class Greeting:\n",
        "  def __init__(self, first, last):\n",
        "    self.first = first\n",
        "    self.last = last\n",
        "\n",
        "  def display(self):\n",
        "    print(f'Hi {self.first}')\n",
        "\n",
        "greeting = Greeting('Donald', 'Becker')\n",
        "greeting.display()"
      ],
      "metadata": {
        "colab": {
          "base_uri": "https://localhost:8080/"
        },
        "id": "M8bDD1LWnCyu",
        "outputId": "dce92366-a0f0-4482-82aa-ca21450c61db"
      },
      "execution_count": null,
      "outputs": [
        {
          "output_type": "stream",
          "name": "stdout",
          "text": [
            "Hi Donald\n"
          ]
        }
      ]
    },
    {
      "cell_type": "code",
      "source": [
        "class Greeting:\n",
        "  def __init__(self, first, last):\n",
        "    self.first = first\n",
        "    self.last = last\n",
        "\n",
        "  def display(self, formal = False):\n",
        "    if formal == True:\n",
        "      print(f'Hello {self.first} {self.last}')\n",
        "    else:\n",
        "      print(f'Hi {self.first}')\n",
        "\n",
        "\n",
        "greeting = Greeting('Donald', 'Becker')\n",
        "greeting.display(formal=True)"
      ],
      "metadata": {
        "colab": {
          "base_uri": "https://localhost:8080/"
        },
        "id": "AumJA0Bo0vMc",
        "outputId": "f117fe3f-a7af-4060-978e-bdd2aa6d4f30"
      },
      "execution_count": null,
      "outputs": [
        {
          "output_type": "stream",
          "name": "stdout",
          "text": [
            "Hello Donald Becker\n"
          ]
        }
      ]
    },
    {
      "cell_type": "code",
      "source": [
        "class Greeting:\n",
        "  def __init__(self, first, last):\n",
        "    self.first = first\n",
        "    self.last = last\n",
        "\n",
        "  def display(self, formal = False):\n",
        "    if formal == True:\n",
        "      print(f'Hello {self.first} {self.last}')\n",
        "    else:\n",
        "      print(f'Hi {self.first}')\n",
        "\n",
        "  def __str__(self):\n",
        "    return str(self.first) + \", \" + str(self.last)\n",
        "\n",
        "\n",
        "greeting = Greeting('Donald', 'Becker')\n",
        "s = Greeting('Bob', 'Dylan')\n",
        "greeting.display(formal=True)\n",
        "print(greeting)\n",
        "print(s)"
      ],
      "metadata": {
        "colab": {
          "base_uri": "https://localhost:8080/"
        },
        "id": "SvusMlJl4EzK",
        "outputId": "615b05be-d3ac-4bf7-ab24-e67dbd930a33"
      },
      "execution_count": null,
      "outputs": [
        {
          "output_type": "stream",
          "name": "stdout",
          "text": [
            "Hello Donald Becker\n",
            "Donald, Becker\n",
            "Bob, Dylan\n"
          ]
        }
      ]
    },
    {
      "cell_type": "code",
      "source": [
        "class Student:\n",
        "  def __init__(self, name, number):\n",
        "    self.name = name\n",
        "    self.number = number\n",
        "    self.courses = []\n",
        "\n",
        "  def enroll(self, course):\n",
        "    if course not in self.courses:\n",
        "      self.courses.append(course)\n",
        "    else:\n",
        "      print(f\"You have already enrolled in this {course}.\")\n",
        "\n",
        "  def get_courses(self):\n",
        "    return self.courses\n",
        "\n",
        "James_Bond= Student(\"James Bond\", \"007\")\n",
        "Clark_Kent= Student(\"Clark Kent\", 333)\n",
        "\n",
        "print(f\"{James_Bond.name}, {James_Bond.number}\")\n",
        "print(f\"{Clark_Kent.name}, {Clark_Kent.number}\")\n",
        "print(f\"{James_Bond.name}, {James_Bond.number}, {James_Bond.courses}\")"
      ],
      "metadata": {
        "colab": {
          "base_uri": "https://localhost:8080/"
        },
        "id": "82KsQ4jTH6m0",
        "outputId": "92edac62-4a79-45bd-d93c-079ae91def16"
      },
      "execution_count": 33,
      "outputs": [
        {
          "output_type": "stream",
          "name": "stdout",
          "text": [
            "James Bond, 007\n",
            "Clark Kent, 333\n",
            "James Bond, 007, []\n"
          ]
        }
      ]
    },
    {
      "cell_type": "code",
      "source": [
        "class Student:\n",
        "  def __init__(self, name, number):\n",
        "    self.name = name\n",
        "    self.number = number\n",
        "\n",
        "James_Bond= Student(\"James Bond\", \"007\")\n",
        "Clark_Kent= Student(\"Clark Kent\", 333)\n",
        "\n",
        "print(f\"{James_Bond.name}, {James_Bond.number}\")\n",
        "print(f\"{Clark_Kent.name}, {Clark_Kent.number}\")"
      ],
      "metadata": {
        "colab": {
          "base_uri": "https://localhost:8080/"
        },
        "id": "oInpXgVSNXlK",
        "outputId": "69324d04-eee6-4868-e489-c4f2b7531b03"
      },
      "execution_count": 19,
      "outputs": [
        {
          "output_type": "stream",
          "name": "stdout",
          "text": [
            "James Bond, 007\n",
            "Clark Kent, 333\n"
          ]
        }
      ]
    }
  ]
}