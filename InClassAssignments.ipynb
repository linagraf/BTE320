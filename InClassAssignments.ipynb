{
  "nbformat": 4,
  "nbformat_minor": 0,
  "metadata": {
    "colab": {
      "provenance": [],
      "authorship_tag": "ABX9TyOXE9d/bJcquxG+FuOW0kmi",
      "include_colab_link": true
    },
    "kernelspec": {
      "name": "python3",
      "display_name": "Python 3"
    },
    "language_info": {
      "name": "python"
    }
  },
  "cells": [
    {
      "cell_type": "markdown",
      "metadata": {
        "id": "view-in-github",
        "colab_type": "text"
      },
      "source": [
        "<a href=\"https://colab.research.google.com/github/linagraf/BTE320/blob/main/InClassAssignments.ipynb\" target=\"_parent\"><img src=\"https://colab.research.google.com/assets/colab-badge.svg\" alt=\"Open In Colab\"/></a>"
      ]
    },
    {
      "cell_type": "markdown",
      "source": [
        "Assignment 1: Write program that takes 3 inputs (pi, radius, heaight); calculates the radius of a closed cylinder, area=2piR^2+2piRh"
      ],
      "metadata": {
        "id": "T4Dsu3og26By"
      }
    },
    {
      "cell_type": "code",
      "execution_count": null,
      "metadata": {
        "colab": {
          "base_uri": "https://localhost:8080/"
        },
        "id": "2BN4u9NT2z-y",
        "outputId": "f5624486-810d-42a5-8baa-21f6a0ad2eed"
      },
      "outputs": [
        {
          "output_type": "stream",
          "name": "stdout",
          "text": [
            "enter radius:5\n",
            "enter height:7\n",
            "area of cylinder:376.8 sq.ft\n"
          ]
        }
      ],
      "source": [
        "radius=float(input(\"enter radius:\")) #define the variables first\n",
        "height=float(input(\"enter height:\"))\n",
        "pi=3.14\n",
        "\n",
        "area=2*pi*radius**2+2*pi*radius*height #** = ^2 ; can put parantheses around the expression if unsure about the order\n",
        "print(f'area of cylinder:{area} sq.ft') #use f-string to make sense of the sentence"
      ]
    },
    {
      "cell_type": "markdown",
      "source": [
        "Assignment 2: design a calculator with 3 inputs, 2 numbers, symbol; n1=, n2=, op="
      ],
      "metadata": {
        "id": "audiH_nF6Q5P"
      }
    },
    {
      "cell_type": "code",
      "source": [
        "n1= float(input(\"Please provide your age:\"))\n",
        "n2= float(input(\"Please provide your weight:\"))\n",
        "op = input(\"Enter operator:\")\n",
        "\n",
        "if op == \"+\":\n",
        "  result= n1+n2\n",
        "elif op == \"-\":\n",
        "  result= n1-n2\n",
        "elif op == \"*\":\n",
        "  result= n1*n2\n",
        "elif op == \"/\":\n",
        "  result=n1/n2\n",
        "elif op == \"//\":\n",
        "  result= n1//n2\n",
        "elif op == \"**\":\n",
        "  result= n1**n2\n",
        "elif op == \"%\":\n",
        "  result = n1 % n2\n",
        "else:\n",
        "  result=\"invalid operator!\"\n",
        "\n",
        "print(f'{n1} {op} {n2}= {result}')\n"
      ],
      "metadata": {
        "colab": {
          "base_uri": "https://localhost:8080/"
        },
        "id": "hqeVRrIQ6kIR",
        "outputId": "ecf485d4-3f13-4f2b-9166-7b4d5498508e"
      },
      "execution_count": 1,
      "outputs": [
        {
          "output_type": "stream",
          "name": "stdout",
          "text": [
            "Please provide your age:6\n",
            "Please provide your weight:8\n",
            "Enter operator:+\n",
            "6.0 + 8.0= 14.0\n"
          ]
        }
      ]
    }
  ]
}