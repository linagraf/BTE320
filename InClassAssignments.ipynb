{
  "nbformat": 4,
  "nbformat_minor": 0,
  "metadata": {
    "colab": {
      "provenance": [],
      "authorship_tag": "ABX9TyP0M+Q60Vi2i2EV3LNKOaUg",
      "include_colab_link": true
    },
    "kernelspec": {
      "name": "python3",
      "display_name": "Python 3"
    },
    "language_info": {
      "name": "python"
    }
  },
  "cells": [
    {
      "cell_type": "markdown",
      "metadata": {
        "id": "view-in-github",
        "colab_type": "text"
      },
      "source": [
        "<a href=\"https://colab.research.google.com/github/linagraf/BTE320/blob/main/InClassAssignments.ipynb\" target=\"_parent\"><img src=\"https://colab.research.google.com/assets/colab-badge.svg\" alt=\"Open In Colab\"/></a>"
      ]
    },
    {
      "cell_type": "markdown",
      "source": [
        "Assignment 1: Write program that takes 3 inputs (pi, radius, heaight); calculates the radius of a closed cylinder, area=2piR^2+2piRh"
      ],
      "metadata": {
        "id": "T4Dsu3og26By"
      }
    },
    {
      "cell_type": "code",
      "execution_count": null,
      "metadata": {
        "colab": {
          "base_uri": "https://localhost:8080/"
        },
        "id": "2BN4u9NT2z-y",
        "outputId": "f5624486-810d-42a5-8baa-21f6a0ad2eed"
      },
      "outputs": [
        {
          "output_type": "stream",
          "name": "stdout",
          "text": [
            "enter radius:5\n",
            "enter height:7\n",
            "area of cylinder:376.8 sq.ft\n"
          ]
        }
      ],
      "source": [
        "radius=float(input(\"enter radius:\"))\n",
        "height=float(input(\"enter height:\"))\n",
        "pi=3.14\n",
        "\n",
        "area=2*pi*radius**2+2*pi*radius*height\n",
        "print(f'area of cylinder:{area} sq.ft')"
      ]
    },
    {
      "cell_type": "markdown",
      "source": [
        "Assignment 2: design a calculator with 3 inputs, 2 numbers, symbol; n1=, n2=, op="
      ],
      "metadata": {
        "id": "audiH_nF6Q5P"
      }
    },
    {
      "cell_type": "code",
      "source": [
        "n1= float(input(\"Please provide your age:\"))\n",
        "n2= float(input(\"Please provide your weight:\"))\n",
        "op = input(\"Enter operator:\")\n",
        "\n",
        "if op == \"+\":\n",
        "  result= n1+n2\n",
        "elif op == \"-\":\n",
        "  result= n1-n2\n",
        "elif op == \"*\":\n",
        "  result= n1*n2\n",
        "elif op == \"/\":\n",
        "  result=n1/n2\n",
        "elif op == \"//\":\n",
        "  result= n1//n2\n",
        "elif op == \"**\":\n",
        "  result= n1**n2\n",
        "elif op == \"%\":\n",
        "  result = n1 % n2\n",
        "else:\n",
        "  result=\"invalid operator!\"\n",
        "\n",
        "print(f'{n1} {op} {n2}= {result}')\n"
      ],
      "metadata": {
        "colab": {
          "base_uri": "https://localhost:8080/"
        },
        "id": "hqeVRrIQ6kIR",
        "outputId": "ecf485d4-3f13-4f2b-9166-7b4d5498508e"
      },
      "execution_count": null,
      "outputs": [
        {
          "output_type": "stream",
          "name": "stdout",
          "text": [
            "Please provide your age:6\n",
            "Please provide your weight:8\n",
            "Enter operator:+\n",
            "6.0 + 8.0= 14.0\n"
          ]
        }
      ]
    },
    {
      "cell_type": "markdown",
      "source": [
        "Assignment 3: parking garage charges $5 plus $2.5 for each hour parked. The min fee is $10 and the max fee is $20. Write a prorgram that prints a verticle list with hours parked and the corresponding fee, from 1-8 (left side is number of hours and right side is the fee)."
      ],
      "metadata": {
        "id": "0L3syTxgmQ_n"
      }
    },
    {
      "cell_type": "code",
      "source": [
        "for numberHours in range (1,9,1):\n",
        "  fee = 5+2.5*numberHours\n",
        "  if fee < 10:\n",
        "    fee = 10\n",
        "  elif fee > 20:\n",
        "    fee = 20\n",
        "\n",
        "  print(numberHours, fee)\n",
        "\n"
      ],
      "metadata": {
        "colab": {
          "base_uri": "https://localhost:8080/"
        },
        "id": "0B110z8ZnAYb",
        "outputId": "e4aa23cd-2bda-4313-b02f-444a27f6d906"
      },
      "execution_count": null,
      "outputs": [
        {
          "output_type": "stream",
          "name": "stdout",
          "text": [
            "1 10\n",
            "2 10.0\n",
            "3 12.5\n",
            "4 15.0\n",
            "5 17.5\n",
            "6 20.0\n",
            "7 20\n",
            "8 20\n"
          ]
        }
      ]
    },
    {
      "cell_type": "markdown",
      "source": [
        "Assignment 4: a ticket for movie theatre is $10, W/o advertising, 20 people are forecasted to attend. Additional attend based on ad spending, estimated to be: Additional attendees = 2 x round (advertisingDollars^.5). Fixed cost=$200. Write a program to generate table for ad amounts and profits."
      ],
      "metadata": {
        "id": "U9BfdejEq6m-"
      }
    },
    {
      "cell_type": "code",
      "source": [
        "import math\n",
        "\n",
        "print('Ad$\\t', 'Profit')\n",
        "for adMoney in range (0,201,25):\n",
        "  revenue = (20 + 2* round(math.sqrt(adMoney))) * 10\n",
        "  costs= 200 + adMoney\n",
        "  profit= revenue - costs\n",
        "  print(adMoney, '\\t',profit)\n",
        "\n",
        "\n"
      ],
      "metadata": {
        "colab": {
          "base_uri": "https://localhost:8080/"
        },
        "id": "b_VmJhIxrXfH",
        "outputId": "cf936a74-b2cd-477f-9d80-0c308b5c021c"
      },
      "execution_count": null,
      "outputs": [
        {
          "output_type": "stream",
          "name": "stdout",
          "text": [
            "Ad$\t Profit\n",
            "0 \t 0\n",
            "25 \t 75\n",
            "50 \t 90\n",
            "75 \t 105\n",
            "100 \t 100\n",
            "125 \t 95\n",
            "150 \t 90\n",
            "175 \t 85\n",
            "200 \t 80\n"
          ]
        }
      ]
    },
    {
      "cell_type": "markdown",
      "source": [
        "Rock - Paper - Scissors: 2 players playing the game. Each players choice is given from the keyboard. Game repeats until the user decides to stop."
      ],
      "metadata": {
        "id": "7qoKnmcjWPw0"
      }
    },
    {
      "cell_type": "code",
      "source": [
        "import random\n",
        "\n",
        "play = input(\"Do you want to play a game (yes/no)\").capitalize()\n",
        "\n",
        "while play == \"Yes\":\n",
        "  p1 = input(\"Player 1, choose either Rock, Paper, or Scissors:\").capitalize()\n",
        "  p2 = random.choice([\"rock\", \"paper\", \"scissors\"]).capitalize()\n",
        "\n",
        "  print(f\"Player chose {p1}; Computer chose {p2}\")\n",
        "\n",
        "  if p1 == p2:\n",
        "    print(\"Draw\")\n",
        "\n",
        "  elif ((p1 == \"Rock\" and p2 == \"Scissors\") or (p1 == \"Scissors\" and p2 == \"Paper\") or (p1 == \"Paper\" and p2 == \"Rock\")):\n",
        "    print(\"Player 1 wins\")\n",
        "\n",
        "  else:\n",
        "    print(\"Player 2 wins\")\n",
        "\n",
        "  play = input(\"Do you want to play another game (yes/no)\").capitalize()\n",
        "\n",
        "print (\"Good day...\")\n",
        "\n"
      ],
      "metadata": {
        "colab": {
          "base_uri": "https://localhost:8080/"
        },
        "id": "yFEPj88YWE8X",
        "outputId": "b9283535-3cb7-43d8-8e51-e6fec192d2b2"
      },
      "execution_count": null,
      "outputs": [
        {
          "output_type": "stream",
          "name": "stdout",
          "text": [
            "Do you want to play a game (yes/no)jbbbkjjkn\n",
            "Good day...\n"
          ]
        }
      ]
    }
  ]
}